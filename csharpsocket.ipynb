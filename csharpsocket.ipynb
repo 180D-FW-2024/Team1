{
 "cells": [
  {
   "cell_type": "code",
   "execution_count": null,
   "metadata": {
    "dotnet_interactive": {
     "language": "csharp"
    },
    "polyglot_notebook": {
     "kernelName": "csharp"
    }
   },
   "outputs": [
    {
     "name": "stdout",
     "output_type": "stream",
     "text": [
      "Server started on port 5000. Waiting for clients...\n"
     ]
    }
   ],
   "source": [
    "using System;\n",
    "using System.Net;\n",
    "using System.Net.Sockets;\n",
    "using System.Text;\n",
    "using System.Threading;\n",
    "\n",
    "// Define and start the server\n",
    "TcpListener server = new TcpListener(IPAddress.Any, 5000);\n",
    "server.Start();\n",
    "Console.WriteLine(\"Server started on port 5000. Waiting for clients...\");\n",
    "\n",
    "void StartServer()\n",
    "{\n",
    "    Thread serverThread = new Thread(() =>\n",
    "    {\n",
    "        while (true)\n",
    "        {\n",
    "            var client = server.AcceptTcpClient();\n",
    "            Console.WriteLine(\"Client connected!\");\n",
    "\n",
    "            Thread clientThread = new Thread(HandleClient);\n",
    "            clientThread.Start(client);\n",
    "        }\n",
    "    });\n",
    "\n",
    "    serverThread.IsBackground = true;\n",
    "    serverThread.Start();\n",
    "}\n",
    "\n",
    "void HandleClient(object clientObject)\n",
    "{\n",
    "    TcpClient client = (TcpClient)clientObject;\n",
    "    NetworkStream stream = client.GetStream();\n",
    "\n",
    "    byte[] buffer = new byte[1024];\n",
    "    while (true)\n",
    "    {\n",
    "        try\n",
    "        {\n",
    "            int bytesRead = stream.Read(buffer, 0, buffer.Length);\n",
    "            if (bytesRead == 0) break;\n",
    "\n",
    "            string receivedMessage = Encoding.UTF8.GetString(buffer, 0, bytesRead);\n",
    "            Console.WriteLine(\"Received: \" + receivedMessage);\n",
    "\n",
    "            string response = \"Score received: \" + receivedMessage;\n",
    "            byte[] responseBytes = Encoding.UTF8.GetBytes(response);\n",
    "            stream.Write(responseBytes, 0, responseBytes.Length);\n",
    "        }\n",
    "        catch (Exception ex)\n",
    "        {\n",
    "            Console.WriteLine(\"Error: \" + ex.Message);\n",
    "            break;\n",
    "        }\n",
    "    }\n",
    "\n",
    "    client.Close();\n",
    "    Console.WriteLine(\"Client disconnected.\");\n",
    "}\n",
    "\n",
    "// Start the server\n",
    "StartServer();\n"
   ]
  },
  {
   "cell_type": "code",
   "execution_count": null,
   "metadata": {
    "dotnet_interactive": {
     "language": "csharp"
    },
    "polyglot_notebook": {
     "kernelName": "csharp"
    }
   },
   "outputs": [
    {
     "name": "stdout",
     "output_type": "stream",
     "text": [
      "Connected to server.\n",
      "Server Response: Score received: 100\n",
      "Disconnected from server.\n"
     ]
    }
   ],
   "source": [
    "using System;\n",
    "using System.Net.Sockets;\n",
    "using System.Text;\n",
    "\n",
    "// Connect to the server and send scores\n",
    "TcpClient client = new TcpClient();\n",
    "client.Connect(\"127.0.0.1\", 5000);\n",
    "Console.WriteLine(\"Connected to server.\");\n",
    "\n",
    "NetworkStream stream = client.GetStream();\n",
    "\n",
    "void SendScore(string score)\n",
    "{\n",
    "    byte[] data = Encoding.UTF8.GetBytes(score);\n",
    "    stream.Write(data, 0, data.Length);\n",
    "\n",
    "    byte[] buffer = new byte[1024];\n",
    "    int bytesRead = stream.Read(buffer, 0, buffer.Length);\n",
    "    string response = Encoding.UTF8.GetString(buffer, 0, bytesRead);\n",
    "\n",
    "    Console.WriteLine(\"Server Response: \" + response);\n",
    "}\n",
    "\n",
    "// Send a test score\n",
    "SendScore(\"100\");\n",
    "\n",
    "// Clean up\n",
    "stream.Close();\n",
    "client.Close();\n",
    "Console.WriteLine(\"Disconnected from server.\");\n"
   ]
  }
 ],
 "metadata": {
  "kernelspec": {
   "display_name": ".NET (C#)",
   "language": "C#",
   "name": ".net-csharp"
  },
  "polyglot_notebook": {
   "kernelInfo": {
    "defaultKernelName": "csharp",
    "items": [
     {
      "aliases": [],
      "languageName": "csharp",
      "name": "csharp"
     }
    ]
   }
  }
 },
 "nbformat": 4,
 "nbformat_minor": 2
}
